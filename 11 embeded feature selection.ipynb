{
  "nbformat": 4,
  "nbformat_minor": 0,
  "metadata": {
    "colab": {
      "provenance": [],
      "authorship_tag": "ABX9TyPWeLWx2I1OMz7ZBsrel+9G",
      "include_colab_link": true
    },
    "kernelspec": {
      "name": "python3",
      "display_name": "Python 3"
    },
    "language_info": {
      "name": "python"
    }
  },
  "cells": [
    {
      "cell_type": "markdown",
      "metadata": {
        "id": "view-in-github",
        "colab_type": "text"
      },
      "source": [
        "<a href=\"https://colab.research.google.com/github/KshitijShinde/Skill/blob/main/skill_expt_11_final.ipynb\" target=\"_parent\"><img src=\"https://colab.research.google.com/assets/colab-badge.svg\" alt=\"Open In Colab\"/></a>"
      ]
    },
    {
      "cell_type": "code",
      "execution_count": null,
      "metadata": {
        "id": "LMODZNwOa-vw"
      },
      "outputs": [],
      "source": [
        "import pandas as pd\n",
        "from sklearn.model_selection import train_test_split\n",
        "from sklearn.preprocessing import StandardScaler\n",
        "from sklearn.datasets import fetch_openml\n",
        "\n",
        "# Load the Pima Indians Diabetes dataset from OpenML\n",
        "data = fetch_openml('pima-indians-diabetes', version=1)\n",
        "X = pd.DataFrame(data.data, columns=data.feature_names)\n",
        "y = pd.Series(data.target, name='diabetes')\n",
        "\n",
        "# Split the data into training and testing sets\n",
        "X_train, X_test, y_train, y_test = train_test_split(X, y, test_size=0.3, random_state=42)\n",
        "\n",
        "# Standardize the features\n",
        "scaler = StandardScaler()\n",
        "X_train_scaled = scaler.fit_transform(X_train)\n",
        "X_test_scaled = scaler.transform(X_test)\n"
      ]
    },
    {
      "cell_type": "code",
      "source": [
        "from sklearn.linear_model import LogisticRegression\n",
        "from sklearn.metrics import accuracy_score\n",
        "\n",
        "# Initialize and train the Logistic Regression model with L1 penalty (Lasso)\n",
        "lasso = LogisticRegression(penalty='l1', solver='liblinear', random_state=42)\n",
        "lasso.fit(X_train_scaled, y_train)\n",
        "\n",
        "# Identify non-zero coefficients\n",
        "selected_features_lasso = X.columns[lasso.coef_.flatten() != 0]\n",
        "print(\"Features selected by Lasso:\", selected_features_lasso)\n",
        "\n",
        "# Predict and evaluate the model\n",
        "y_pred_lasso = lasso.predict(X_test_scaled)\n",
        "accuracy_lasso = accuracy_score(y_test, y_pred_lasso)\n",
        "print(f\"Lasso Model Accuracy: {accuracy_lasso:.4f}\")\n"
      ],
      "metadata": {
        "colab": {
          "base_uri": "https://localhost:8080/"
        },
        "id": "pCupoGy_bEDL",
        "outputId": "364f2c88-0feb-40ad-dae0-6f94492a1d45"
      },
      "execution_count": null,
      "outputs": [
        {
          "output_type": "stream",
          "name": "stdout",
          "text": [
            "Features selected by Lasso: Index(['Pregnancies', 'Glucose', 'BloodPressure', 'SkinThickness', 'Insulin',\n",
            "       'BMI', 'DiabetesPedigreeFunction', 'Age'],\n",
            "      dtype='object')\n",
            "Lasso Model Accuracy: 0.7273\n"
          ]
        }
      ]
    },
    {
      "cell_type": "code",
      "source": [
        "from sklearn.linear_model import LogisticRegression\n",
        "\n",
        "# Initialize and train the Logistic Regression model with L2 penalty (Ridge)\n",
        "ridge = LogisticRegression(penalty='l2', solver='liblinear', random_state=42)\n",
        "ridge.fit(X_train_scaled, y_train)\n",
        "\n",
        "# Display coefficients\n",
        "ridge_coefficients = pd.Series(ridge.coef_.flatten(), index=X.columns)\n",
        "print(\"Ridge coefficients:\\n\", ridge_coefficients)\n",
        "\n",
        "# Predict and evaluate the model\n",
        "y_pred_ridge = ridge.predict(X_test_scaled)\n",
        "accuracy_ridge = accuracy_score(y_test, y_pred_ridge)\n",
        "print(f\"Ridge Model Accuracy: {accuracy_ridge:.4f}\")\n"
      ],
      "metadata": {
        "colab": {
          "base_uri": "https://localhost:8080/"
        },
        "id": "RFosc5m5bFn6",
        "outputId": "acd817b8-aa01-4bf7-e092-165d3014d2a8"
      },
      "execution_count": null,
      "outputs": [
        {
          "output_type": "stream",
          "name": "stdout",
          "text": [
            "Ridge coefficients:\n",
            " Pregnancies                 0.187629\n",
            "Glucose                     1.131092\n",
            "BloodPressure              -0.185778\n",
            "SkinThickness              -0.024115\n",
            "Insulin                    -0.104789\n",
            "BMI                         0.808305\n",
            "DiabetesPedigreeFunction    0.143931\n",
            "Age                         0.412116\n",
            "dtype: float64\n",
            "Ridge Model Accuracy: 0.7359\n"
          ]
        }
      ]
    },
    {
      "cell_type": "code",
      "source": [
        "from sklearn.linear_model import LogisticRegression\n",
        "\n",
        "# Initialize and train the Logistic Regression model with Elastic Net penalty\n",
        "elastic_net = LogisticRegression(penalty='elasticnet', solver='saga', l1_ratio=0.5, random_state=42)\n",
        "elastic_net.fit(X_train_scaled, y_train)\n",
        "\n",
        "# Identify non-zero coefficients\n",
        "selected_features_en = X.columns[elastic_net.coef_.flatten() != 0]\n",
        "print(\"Features selected by Elastic Net:\", selected_features_en)\n",
        "\n",
        "# Predict and evaluate the model\n",
        "y_pred_en = elastic_net.predict(X_test_scaled)\n",
        "accuracy_en = accuracy_score(y_test, y_pred_en)\n",
        "print(f\"Elastic Net Model Accuracy: {accuracy_en:.4f}\")\n"
      ],
      "metadata": {
        "id": "lsqZwV4KbOba",
        "outputId": "7499bcb2-17cd-49c1-dd81-a33e955aa346",
        "colab": {
          "base_uri": "https://localhost:8080/"
        }
      },
      "execution_count": null,
      "outputs": [
        {
          "output_type": "stream",
          "name": "stdout",
          "text": [
            "Features selected by Elastic Net: Index(['Pregnancies', 'Glucose', 'BloodPressure', 'SkinThickness', 'Insulin',\n",
            "       'BMI', 'DiabetesPedigreeFunction', 'Age'],\n",
            "      dtype='object')\n",
            "Elastic Net Model Accuracy: 0.7273\n"
          ]
        }
      ]
    },
    {
      "cell_type": "code",
      "source": [
        "from sklearn.ensemble import RandomForestClassifier\n",
        "\n",
        "# Initialize and train the Random Forest model\n",
        "rf = RandomForestClassifier(n_estimators=100, random_state=42)\n",
        "rf.fit(X_train, y_train)\n",
        "\n",
        "# Get feature importances\n",
        "feature_importances = pd.Series(rf.feature_importances_, index=X.columns)\n",
        "print(\"Feature importances from Random Forest:\\n\", feature_importances)\n",
        "\n",
        "# Predict and evaluate the model\n",
        "y_pred_rf = rf.predict(X_test)\n",
        "accuracy_rf = accuracy_score(y_test, y_pred_rf)\n",
        "print(f\"Random Forest Model Accuracy: {accuracy_rf:.4f}\")\n"
      ],
      "metadata": {
        "id": "ch0WwAudbQgS",
        "outputId": "9c5b958b-4080-4170-b3ea-098c534a4c89",
        "colab": {
          "base_uri": "https://localhost:8080/"
        }
      },
      "execution_count": null,
      "outputs": [
        {
          "output_type": "stream",
          "name": "stdout",
          "text": [
            "Feature importances from Random Forest:\n",
            " Pregnancies                 0.080552\n",
            "Glucose                     0.282089\n",
            "BloodPressure               0.084052\n",
            "SkinThickness               0.070559\n",
            "Insulin                     0.069385\n",
            "BMI                         0.158120\n",
            "DiabetesPedigreeFunction    0.113127\n",
            "Age                         0.142116\n",
            "dtype: float64\n",
            "Random Forest Model Accuracy: 0.7532\n"
          ]
        }
      ]
    }
  ]
}
