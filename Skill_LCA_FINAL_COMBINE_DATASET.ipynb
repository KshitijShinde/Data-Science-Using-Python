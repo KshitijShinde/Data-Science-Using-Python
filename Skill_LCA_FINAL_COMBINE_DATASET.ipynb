{
  "cells": [
    {
      "cell_type": "markdown",
      "metadata": {
        "colab_type": "text",
        "id": "view-in-github"
      },
      "source": [
        "<a href=\"https://colab.research.google.com/github/KshitijShinde/Skill/blob/main/Skill_LCA_FINAL_COMBINE_DATASET.ipynb\" target=\"_parent\"><img src=\"https://colab.research.google.com/assets/colab-badge.svg\" alt=\"Open In Colab\"/></a>"
      ]
    },
    {
      "cell_type": "markdown",
      "metadata": {
        "id": "7u5cCEuCOECE"
      },
      "source": [
        "📂 Load and Merge BoT-IoT Dataset CSV Files"
      ]
    },
    {
      "cell_type": "code",
      "execution_count": null,
      "metadata": {
        "colab": {
          "base_uri": "https://localhost:8080/"
        },
        "id": "7YlFLNCBK1IA",
        "outputId": "a007ec34-b80c-40ff-ca2d-21bdf35632ee"
      },
      "outputs": [],
      "source": [
        "import pandas as pd\n",
        "import numpy as np\n",
        "import matplotlib.pyplot as plt\n",
        "import seaborn as sns\n",
        "from sklearn.model_selection import train_test_split\n",
        "from sklearn.preprocessing import StandardScaler, LabelEncoder\n",
        "from sklearn.ensemble import GradientBoostingClassifier, RandomForestClassifier, BaggingClassifier\n",
        "from sklearn.metrics import classification_report, confusion_matrix, roc_curve, auc\n",
        "from sklearn.feature_selection import SelectKBest, f_classif, RFE\n",
        "from sklearn.tree import DecisionTreeClassifier\n",
        "from imblearn.under_sampling import RandomUnderSampler\n",
        "from sklearn.decomposition import PCA\n",
        "\n",
        "# === Load and Merge CSVs ===\n",
        "df1 = pd.read_csv(r\"E:\\bot iot\\All features\\UNSW_2018_IoT_Botnet_Full5pc_1.csv\")\n",
        "df2 = pd.read_csv(r\"E:\\bot iot\\All features\\UNSW_2018_IoT_Botnet_Full5pc_2.csv\")\n",
        "df3 = pd.read_csv(r\"E:\\bot iot\\All features\\UNSW_2018_IoT_Botnet_Full5pc_3.csv\")\n",
        "df4 = pd.read_csv(r\"E:\\bot iot\\All features\\UNSW_2018_IoT_Botnet_Full5pc_4.csv\")\n",
        "df = pd.concat([df1, df2, df3, df4], ignore_index=True).drop_duplicates()\n",
        "\n",
        "# === Dataset Information ===\n",
        "print(\"Dataset Information:\")\n",
        "df.info()  # Shows the data types, non-null counts, and memory usage\n",
        "\n",
        "# === Preview of Dataset ===\n",
        "print(\"\\nFirst 5 Rows of the Dataset:\")\n",
        "print(df.head())  # Shows the first 5 rows\n",
        "\n",
        "# === Preprocessing ===\n",
        "target_column = 'attack'\n",
        "df = df.select_dtypes(include=[np.number])\n",
        "df = df.replace([np.inf, -np.inf], np.nan).dropna()\n",
        "X = df.drop(target_column, axis=1)\n",
        "y = df[target_column]\n",
        "if y.dtype == 'object':\n",
        "    le = LabelEncoder()\n",
        "    y = le.fit_transform(y)\n",
        "scaler = StandardScaler()\n",
        "X_scaled = scaler.fit_transform(X)\n",
        "\n",
        "# === Balance Data ===\n",
        "undersampler = RandomUnderSampler(random_state=42)\n",
        "X_resampled, y_resampled = undersampler.fit_resample(X_scaled, y)\n",
        "X_train, X_test, y_train, y_test = train_test_split(X_resampled, y_resampled, test_size=0.2, random_state=42)\n"
      ]
    },
    {
      "cell_type": "markdown",
      "metadata": {
        "id": "HShPxfONOLwO"
      },
      "source": [
        "📊 Class Distribution Before and After Undersampling\n"
      ]
    },
    {
      "cell_type": "code",
      "execution_count": null,
      "metadata": {
        "colab": {
          "base_uri": "https://localhost:8080/",
          "height": 507
        },
        "id": "oDSodZBGLDCh",
        "outputId": "420236f7-2974-4a54-e05e-cd317fd6fc1e"
      },
      "outputs": [],
      "source": [
        "# === Visualization 1: Class Distribution ===\n",
        "plt.figure(figsize=(12, 5))\n",
        "plt.subplot(1, 2, 1)\n",
        "plt.hist(y, bins=30, color='orange', alpha=0.7)\n",
        "plt.title('Before Undersampling')\n",
        "plt.subplot(1, 2, 2)\n",
        "plt.hist(y_resampled, bins=30, color='green', alpha=0.7)\n",
        "plt.title('After Undersampling')\n",
        "plt.tight_layout()\n",
        "plt.show()\n"
      ]
    },
    {
      "cell_type": "markdown",
      "metadata": {
        "id": "JGrmoODcOPZF"
      },
      "source": [
        "🔥 Correlation Heatmap of Features"
      ]
    },
    {
      "cell_type": "code",
      "execution_count": null,
      "metadata": {
        "colab": {
          "base_uri": "https://localhost:8080/",
          "height": 1000
        },
        "id": "sNQ2GAXcLFv6",
        "outputId": "c88da088-1705-42f9-822f-7eb2ff5c915c"
      },
      "outputs": [],
      "source": [
        "# === Visualization 2: Correlation Heatmap ===\n",
        "X_scaled_df = pd.DataFrame(X_scaled, columns=X.columns)\n",
        "X_scaled_df[target_column] = y\n",
        "plt.figure(figsize=(15, 10))\n",
        "sns.heatmap(X_scaled_df.corr(), cmap='coolwarm')\n",
        "plt.title(\"Correlation Heatmap\")\n",
        "plt.show()\n"
      ]
    },
    {
      "cell_type": "markdown",
      "metadata": {
        "id": "6-TZdYxoOSvJ"
      },
      "source": [
        "📦 Boxplot for Distribution of Sample Features"
      ]
    },
    {
      "cell_type": "code",
      "execution_count": null,
      "metadata": {
        "colab": {
          "base_uri": "https://localhost:8080/",
          "height": 699
        },
        "id": "QmpHdTo6MnEB",
        "outputId": "b19e56e8-3e23-4e24-8f27-a733d42c8554"
      },
      "outputs": [],
      "source": [
        "# 5. Boxplot for Feature Distributions (Sample for 5 features)\n",
        "plt.figure(figsize=(15, 8))\n",
        "sns.boxplot(data=X_scaled_df[['pkts', 'bytes', 'dur', 'mean', 'stddev']])\n",
        "plt.title('Boxplot for Feature Distributions')\n",
        "plt.show()"
      ]
    },
    {
      "cell_type": "code",
      "execution_count": null,
      "metadata": {},
      "outputs": [],
      "source": [
        "# === Visualization 4: Feature Distribution (Histograms for Selected Features) ===\n",
        "selected_features = ['pkts', 'bytes', 'seq', 'dur', 'spkts']  # Modify with relevant features\n",
        "plt.figure(figsize=(12, 8))\n",
        "for i, feature in enumerate(selected_features, 1):\n",
        "    plt.subplot(2, 3, i)\n",
        "    plt.hist(X[feature], bins=30, color='skyblue', edgecolor='black', alpha=0.7)\n",
        "    plt.title(f'{feature} Distribution')\n",
        "plt.tight_layout()\n",
        "plt.show()"
      ]
    },
    {
      "cell_type": "markdown",
      "metadata": {
        "id": "09rgmcyYOWpA"
      },
      "source": [
        "📊 Class Distribution After Undersampling (Count Plot)"
      ]
    },
    {
      "cell_type": "code",
      "execution_count": null,
      "metadata": {
        "colab": {
          "base_uri": "https://localhost:8080/",
          "height": 564
        },
        "id": "MfHisroXNFE6",
        "outputId": "0777f83f-6a7a-4ed6-f0fb-82edd770b586"
      },
      "outputs": [],
      "source": [
        "plt.figure(figsize=(8, 6))\n",
        "sns.countplot(x=y_resampled)  # For the resampled target variable\n",
        "plt.title('Class Distribution (After Undersampling)')\n",
        "plt.xlabel('Class')\n",
        "plt.ylabel('Frequency')\n",
        "plt.show()"
      ]
    },
    {
      "cell_type": "markdown",
      "metadata": {
        "id": "gNdXQLABOaE3"
      },
      "source": [
        "🌲 Embedded Feature Selection using Random Forest"
      ]
    },
    {
      "cell_type": "code",
      "execution_count": null,
      "metadata": {
        "colab": {
          "base_uri": "https://localhost:8080/",
          "height": 1000
        },
        "id": "ma8QleONLNHU",
        "outputId": "030c6fb4-7981-458e-c58d-a348687f326b"
      },
      "outputs": [],
      "source": [
        "# === Feature Importance (Embedded) ===\n",
        "rf_model = RandomForestClassifier(random_state=42)\n",
        "rf_model.fit(X_train, y_train)\n",
        "feat_importance = rf_model.feature_importances_\n",
        "plt.figure(figsize=(10, 6))\n",
        "plt.barh(range(len(feat_importance)), feat_importance)\n",
        "plt.yticks(range(len(feat_importance)), X.columns)\n",
        "plt.title('Random Forest Feature Importance')\n",
        "plt.show()\n",
        "\n",
        "top_n = 10\n",
        "top_indices = np.argsort(feat_importance)[-top_n:]\n",
        "top_features_embedded = X.columns[top_indices]\n",
        "top_importances = feat_importance[top_indices]\n",
        "plt.figure(figsize=(10, 6))\n",
        "plt.barh(top_features_embedded, top_importances, color='darkorange')\n",
        "plt.title(f'Top {top_n} Embedded Features')\n",
        "plt.show()\n",
        "print(f\"Embedded Feature Selection - Top {top_n} Features:\\n{top_features_embedded}\")\n"
      ]
    },
    {
      "cell_type": "markdown",
      "metadata": {
        "id": "0glWDzsoOdp9"
      },
      "source": [
        "✅ Feature Selection using SelectKBest (Filter Method)"
      ]
    },
    {
      "cell_type": "code",
      "execution_count": null,
      "metadata": {
        "colab": {
          "base_uri": "https://localhost:8080/",
          "height": 684
        },
        "id": "GlzkQyuALOhX",
        "outputId": "d6ad4e13-15ac-4182-9faf-82935ee6468f"
      },
      "outputs": [],
      "source": [
        "# === Feature Selection: SelectKBest ===\n",
        "selector = SelectKBest(score_func=f_classif, k=10)\n",
        "X_kbest = selector.fit_transform(X_train, y_train)\n",
        "\n",
        "# Get the selected features and their scores\n",
        "kbest_features = X.columns[selector.get_support()]\n",
        "kbest_scores = selector.scores_[selector.get_support()]\n",
        "\n",
        "# Plot the SelectKBest feature scores\n",
        "plt.figure(figsize=(10, 6))\n",
        "plt.barh(kbest_features, kbest_scores, color='purple')\n",
        "plt.title(\"SelectKBest Feature Scores\")\n",
        "plt.show()\n",
        "\n",
        "# Display the selected features and their scores\n",
        "print(f\"Selected Features using SelectKBest:\\n{kbest_features}\")\n",
        "print(f\"Scores of Selected Features:\\n{kbest_scores}\")\n"
      ]
    },
    {
      "cell_type": "markdown",
      "metadata": {
        "id": "1yaXrE1KOg2h"
      },
      "source": [
        "🔍 Feature Selection using RFE (Wrapper Method)"
      ]
    },
    {
      "cell_type": "code",
      "execution_count": null,
      "metadata": {
        "colab": {
          "base_uri": "https://localhost:8080/",
          "height": 633
        },
        "id": "yij3_DevLPpk",
        "outputId": "033c14d0-ab8a-49ad-80a0-7abb3cf9c231"
      },
      "outputs": [],
      "source": [
        "# === Feature Selection: RFE ===\n",
        "rfe = RFE(estimator=RandomForestClassifier(), n_features_to_select=10)\n",
        "X_rfe = rfe.fit_transform(X_train, y_train)\n",
        "selected_features_rfe = X.columns[rfe.support_]\n",
        "print(f\"Selected Features using RFE: {selected_features_rfe}\")\n",
        "\n",
        "# Plot the feature ranking\n",
        "ranking = rfe.ranking_\n",
        "\n",
        "# Sort the ranking and select top N features\n",
        "sorted_idx = np.argsort(ranking)\n",
        "top_features_rfe = X.columns[sorted_idx][:top_n]\n",
        "top_ranking = ranking[sorted_idx][:top_n]\n",
        "\n",
        "# Plot the RFE ranking\n",
        "plt.figure(figsize=(10, 6))\n",
        "plt.barh(top_features_rfe, top_ranking, color='teal')\n",
        "plt.title('Top 10 Features Selected by RFE')\n",
        "plt.xlabel('Ranking')\n",
        "plt.ylabel('Feature')\n",
        "plt.gca().invert_yaxis()  # Invert the y-axis so that the top feature is at the top\n",
        "plt.show()\n"
      ]
    },
    {
      "cell_type": "code",
      "execution_count": null,
      "metadata": {},
      "outputs": [],
      "source": [
        "from sklearn.metrics import accuracy_score\n",
        "\n",
        "# ========== Compare Feature Selection Methods ==========\n",
        "models = {\n",
        "    \"Embedded\": X_train[:, top_indices],  # top features from embedded method\n",
        "    \"SelectKBest\": X_kbest,\n",
        "    \"RFE\": X_rfe\n",
        "}\n",
        "\n",
        "accuracies = {}\n",
        "\n",
        "for name, X_fs in models.items():\n",
        "    clf = GradientBoostingClassifier(random_state=42)\n",
        "    clf.fit(X_fs, y_train)\n",
        "    if name == \"Embedded\":\n",
        "        X_fs_test = X_test[:, top_indices]\n",
        "    elif name == \"SelectKBest\":\n",
        "        X_fs_test = selector.transform(X_test)\n",
        "    elif name == \"RFE\":\n",
        "        X_fs_test = rfe.transform(X_test)\n",
        "    \n",
        "    y_pred = clf.predict(X_fs_test)\n",
        "    acc = accuracy_score(y_test, y_pred)\n",
        "    accuracies[name] = acc\n",
        "\n",
        "# Plotting comparison\n",
        "plt.figure(figsize=(8, 5))\n",
        "plt.bar(accuracies.keys(), accuracies.values(), color=['darkorange', 'purple', 'teal'])\n",
        "plt.title(\"Model Accuracy Based on Feature Selection Methods\")\n",
        "plt.ylabel(\"Accuracy\")\n",
        "plt.ylim(0, 1)\n",
        "for i, v in enumerate(accuracies.values()):\n",
        "    plt.text(i, v + 0.01, f\"{v:.2f}\", ha='center', fontsize=12)\n",
        "plt.tight_layout()\n",
        "plt.show()\n"
      ]
    },
    {
      "cell_type": "markdown",
      "metadata": {
        "id": "lb6vMj_1Okgz"
      },
      "source": [
        "🧠 Ensemble Learning: Bagging Classifier with Decision Trees"
      ]
    },
    {
      "cell_type": "code",
      "execution_count": null,
      "metadata": {
        "colab": {
          "base_uri": "https://localhost:8080/",
          "height": 582
        },
        "id": "fUhLHi5VLRSU",
        "outputId": "9cf28a94-412d-453f-f940-1a4d7ac8b7bb"
      },
      "outputs": [],
      "source": [
        "# === Bagging Classifier ===\n",
        "bagging_model = BaggingClassifier(estimator=DecisionTreeClassifier(), n_estimators=50, random_state=42)\n",
        "bagging_model.fit(X_train, y_train)\n",
        "y_pred_bagging = bagging_model.predict(X_test)\n",
        "print(\"\\nBagging Model - Classification Report:\")\n",
        "print(classification_report(y_test, y_pred_bagging))\n",
        "plt.figure(figsize=(6, 4))\n",
        "sns.heatmap(confusion_matrix(y_test, y_pred_bagging), annot=True, fmt='d', cmap='Blues')\n",
        "plt.title(\"Confusion Matrix - Bagging\")\n",
        "plt.show()\n"
      ]
    },
    {
      "cell_type": "markdown",
      "metadata": {
        "id": "dTJ-ICGUOn33"
      },
      "source": [
        "🚀 Ensemble Learning: Gradient Boosting Classifier Evaluation\n"
      ]
    },
    {
      "cell_type": "code",
      "execution_count": null,
      "metadata": {
        "colab": {
          "base_uri": "https://localhost:8080/",
          "height": 582
        },
        "id": "bnf0kFO4LTf4",
        "outputId": "3198edb0-bbcc-4cfe-b0bf-c9b9a39b43f4"
      },
      "outputs": [],
      "source": [
        "# === Boosting Classifier ===\n",
        "boosting_model = GradientBoostingClassifier(random_state=42)\n",
        "boosting_model.fit(X_train, y_train)\n",
        "y_pred_boosting = boosting_model.predict(X_test)\n",
        "print(\"\\nBoosting Model - Classification Report:\")\n",
        "print(classification_report(y_test, y_pred_boosting))\n",
        "plt.figure(figsize=(6, 4))\n",
        "sns.heatmap(confusion_matrix(y_test, y_pred_boosting), annot=True, fmt='d', cmap='Greens')\n",
        "plt.title(\"Confusion Matrix - Boosting\")\n",
        "plt.show()\n"
      ]
    },
    {
      "cell_type": "code",
      "execution_count": null,
      "metadata": {
        "id": "FgRC5sh2LU5Z"
      },
      "outputs": [],
      "source": []
    }
  ],
  "metadata": {
    "colab": {
      "authorship_tag": "ABX9TyMYz/Sp/6XC3s6cAtKKX5ef",
      "include_colab_link": true,
      "mount_file_id": "1ttBjg10OLGfpozMs1jnnq5lZoUkFpa6Y",
      "provenance": []
    },
    "kernelspec": {
      "display_name": "venv",
      "language": "python",
      "name": "python3"
    },
    "language_info": {
      "codemirror_mode": {
        "name": "ipython",
        "version": 3
      },
      "file_extension": ".py",
      "mimetype": "text/x-python",
      "name": "python",
      "nbconvert_exporter": "python",
      "pygments_lexer": "ipython3",
      "version": "3.12.5"
    }
  },
  "nbformat": 4,
  "nbformat_minor": 0
}
